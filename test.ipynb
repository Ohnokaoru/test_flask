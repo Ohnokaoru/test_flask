{
 "cells": [
  {
   "cell_type": "code",
   "execution_count": 1,
   "id": "90470002",
   "metadata": {},
   "outputs": [],
   "source": [
    "import pandas as pd"
   ]
  },
  {
   "cell_type": "code",
   "execution_count": 2,
   "id": "03338910",
   "metadata": {},
   "outputs": [],
   "source": [
    "url='https://data.moenv.gov.tw/api/v2/aqx_p_02?api_key=e8dd42e6-9b8b-43f8-991e-b3dee723a52d&limit=1000&sort=datacreationdate%20desc&format=CSV'"
   ]
  },
  {
   "cell_type": "code",
   "execution_count": 3,
   "id": "6e2d5ae1",
   "metadata": {},
   "outputs": [],
   "source": [
    "df=pd.read_csv(url)"
   ]
  },
  {
   "cell_type": "code",
   "execution_count": 4,
   "id": "c42a50c7",
   "metadata": {},
   "outputs": [
    {
     "data": {
      "text/html": [
       "<div>\n",
       "<style scoped>\n",
       "    .dataframe tbody tr th:only-of-type {\n",
       "        vertical-align: middle;\n",
       "    }\n",
       "\n",
       "    .dataframe tbody tr th {\n",
       "        vertical-align: top;\n",
       "    }\n",
       "\n",
       "    .dataframe thead th {\n",
       "        text-align: right;\n",
       "    }\n",
       "</style>\n",
       "<table border=\"1\" class=\"dataframe\">\n",
       "  <thead>\n",
       "    <tr style=\"text-align: right;\">\n",
       "      <th></th>\n",
       "      <th>site</th>\n",
       "      <th>county</th>\n",
       "      <th>pm25</th>\n",
       "      <th>datacreationdate</th>\n",
       "      <th>itemunit</th>\n",
       "    </tr>\n",
       "  </thead>\n",
       "  <tbody>\n",
       "    <tr>\n",
       "      <th>0</th>\n",
       "      <td>大城</td>\n",
       "      <td>彰化縣</td>\n",
       "      <td>0.0</td>\n",
       "      <td>2024-06-30 09:00</td>\n",
       "      <td>μg/m3</td>\n",
       "    </tr>\n",
       "    <tr>\n",
       "      <th>1</th>\n",
       "      <td>富貴角</td>\n",
       "      <td>新北市</td>\n",
       "      <td>7.0</td>\n",
       "      <td>2024-06-30 09:00</td>\n",
       "      <td>μg/m3</td>\n",
       "    </tr>\n",
       "    <tr>\n",
       "      <th>2</th>\n",
       "      <td>麥寮</td>\n",
       "      <td>雲林縣</td>\n",
       "      <td>0.0</td>\n",
       "      <td>2024-06-30 09:00</td>\n",
       "      <td>μg/m3</td>\n",
       "    </tr>\n",
       "    <tr>\n",
       "      <th>3</th>\n",
       "      <td>關山</td>\n",
       "      <td>臺東縣</td>\n",
       "      <td>6.0</td>\n",
       "      <td>2024-06-30 09:00</td>\n",
       "      <td>μg/m3</td>\n",
       "    </tr>\n",
       "    <tr>\n",
       "      <th>4</th>\n",
       "      <td>馬公</td>\n",
       "      <td>澎湖縣</td>\n",
       "      <td>11.0</td>\n",
       "      <td>2024-06-30 09:00</td>\n",
       "      <td>μg/m3</td>\n",
       "    </tr>\n",
       "    <tr>\n",
       "      <th>...</th>\n",
       "      <td>...</td>\n",
       "      <td>...</td>\n",
       "      <td>...</td>\n",
       "      <td>...</td>\n",
       "      <td>...</td>\n",
       "    </tr>\n",
       "    <tr>\n",
       "      <th>73</th>\n",
       "      <td>土城</td>\n",
       "      <td>新北市</td>\n",
       "      <td>11.0</td>\n",
       "      <td>2024-06-30 09:00</td>\n",
       "      <td>μg/m3</td>\n",
       "    </tr>\n",
       "    <tr>\n",
       "      <th>74</th>\n",
       "      <td>新店</td>\n",
       "      <td>新北市</td>\n",
       "      <td>15.0</td>\n",
       "      <td>2024-06-30 09:00</td>\n",
       "      <td>μg/m3</td>\n",
       "    </tr>\n",
       "    <tr>\n",
       "      <th>75</th>\n",
       "      <td>萬里</td>\n",
       "      <td>新北市</td>\n",
       "      <td>3.0</td>\n",
       "      <td>2024-06-30 09:00</td>\n",
       "      <td>μg/m3</td>\n",
       "    </tr>\n",
       "    <tr>\n",
       "      <th>76</th>\n",
       "      <td>汐止</td>\n",
       "      <td>新北市</td>\n",
       "      <td>9.0</td>\n",
       "      <td>2024-06-30 09:00</td>\n",
       "      <td>μg/m3</td>\n",
       "    </tr>\n",
       "    <tr>\n",
       "      <th>77</th>\n",
       "      <td>基隆</td>\n",
       "      <td>基隆市</td>\n",
       "      <td>6.0</td>\n",
       "      <td>2024-06-30 09:00</td>\n",
       "      <td>μg/m3</td>\n",
       "    </tr>\n",
       "  </tbody>\n",
       "</table>\n",
       "<p>78 rows × 5 columns</p>\n",
       "</div>"
      ],
      "text/plain": [
       "   site county  pm25  datacreationdate itemunit\n",
       "0    大城    彰化縣   0.0  2024-06-30 09:00    μg/m3\n",
       "1   富貴角    新北市   7.0  2024-06-30 09:00    μg/m3\n",
       "2    麥寮    雲林縣   0.0  2024-06-30 09:00    μg/m3\n",
       "3    關山    臺東縣   6.0  2024-06-30 09:00    μg/m3\n",
       "4    馬公    澎湖縣  11.0  2024-06-30 09:00    μg/m3\n",
       "..  ...    ...   ...               ...      ...\n",
       "73   土城    新北市  11.0  2024-06-30 09:00    μg/m3\n",
       "74   新店    新北市  15.0  2024-06-30 09:00    μg/m3\n",
       "75   萬里    新北市   3.0  2024-06-30 09:00    μg/m3\n",
       "76   汐止    新北市   9.0  2024-06-30 09:00    μg/m3\n",
       "77   基隆    基隆市   6.0  2024-06-30 09:00    μg/m3\n",
       "\n",
       "[78 rows x 5 columns]"
      ]
     },
     "execution_count": 4,
     "metadata": {},
     "output_type": "execute_result"
    }
   ],
   "source": [
    "df"
   ]
  },
  {
   "cell_type": "code",
   "execution_count": 5,
   "id": "9b813592",
   "metadata": {},
   "outputs": [
    {
     "data": {
      "text/html": [
       "<div>\n",
       "<style scoped>\n",
       "    .dataframe tbody tr th:only-of-type {\n",
       "        vertical-align: middle;\n",
       "    }\n",
       "\n",
       "    .dataframe tbody tr th {\n",
       "        vertical-align: top;\n",
       "    }\n",
       "\n",
       "    .dataframe thead th {\n",
       "        text-align: right;\n",
       "    }\n",
       "</style>\n",
       "<table border=\"1\" class=\"dataframe\">\n",
       "  <thead>\n",
       "    <tr style=\"text-align: right;\">\n",
       "      <th></th>\n",
       "      <th>site</th>\n",
       "      <th>county</th>\n",
       "      <th>pm25</th>\n",
       "      <th>datacreationdate</th>\n",
       "      <th>itemunit</th>\n",
       "    </tr>\n",
       "  </thead>\n",
       "  <tbody>\n",
       "    <tr>\n",
       "      <th>0</th>\n",
       "      <td>大城</td>\n",
       "      <td>彰化縣</td>\n",
       "      <td>0.0</td>\n",
       "      <td>2024-06-30 09:00</td>\n",
       "      <td>μg/m3</td>\n",
       "    </tr>\n",
       "    <tr>\n",
       "      <th>1</th>\n",
       "      <td>富貴角</td>\n",
       "      <td>新北市</td>\n",
       "      <td>7.0</td>\n",
       "      <td>2024-06-30 09:00</td>\n",
       "      <td>μg/m3</td>\n",
       "    </tr>\n",
       "    <tr>\n",
       "      <th>2</th>\n",
       "      <td>麥寮</td>\n",
       "      <td>雲林縣</td>\n",
       "      <td>0.0</td>\n",
       "      <td>2024-06-30 09:00</td>\n",
       "      <td>μg/m3</td>\n",
       "    </tr>\n",
       "    <tr>\n",
       "      <th>3</th>\n",
       "      <td>關山</td>\n",
       "      <td>臺東縣</td>\n",
       "      <td>6.0</td>\n",
       "      <td>2024-06-30 09:00</td>\n",
       "      <td>μg/m3</td>\n",
       "    </tr>\n",
       "    <tr>\n",
       "      <th>4</th>\n",
       "      <td>馬公</td>\n",
       "      <td>澎湖縣</td>\n",
       "      <td>11.0</td>\n",
       "      <td>2024-06-30 09:00</td>\n",
       "      <td>μg/m3</td>\n",
       "    </tr>\n",
       "    <tr>\n",
       "      <th>...</th>\n",
       "      <td>...</td>\n",
       "      <td>...</td>\n",
       "      <td>...</td>\n",
       "      <td>...</td>\n",
       "      <td>...</td>\n",
       "    </tr>\n",
       "    <tr>\n",
       "      <th>73</th>\n",
       "      <td>土城</td>\n",
       "      <td>新北市</td>\n",
       "      <td>11.0</td>\n",
       "      <td>2024-06-30 09:00</td>\n",
       "      <td>μg/m3</td>\n",
       "    </tr>\n",
       "    <tr>\n",
       "      <th>74</th>\n",
       "      <td>新店</td>\n",
       "      <td>新北市</td>\n",
       "      <td>15.0</td>\n",
       "      <td>2024-06-30 09:00</td>\n",
       "      <td>μg/m3</td>\n",
       "    </tr>\n",
       "    <tr>\n",
       "      <th>75</th>\n",
       "      <td>萬里</td>\n",
       "      <td>新北市</td>\n",
       "      <td>3.0</td>\n",
       "      <td>2024-06-30 09:00</td>\n",
       "      <td>μg/m3</td>\n",
       "    </tr>\n",
       "    <tr>\n",
       "      <th>76</th>\n",
       "      <td>汐止</td>\n",
       "      <td>新北市</td>\n",
       "      <td>9.0</td>\n",
       "      <td>2024-06-30 09:00</td>\n",
       "      <td>μg/m3</td>\n",
       "    </tr>\n",
       "    <tr>\n",
       "      <th>77</th>\n",
       "      <td>基隆</td>\n",
       "      <td>基隆市</td>\n",
       "      <td>6.0</td>\n",
       "      <td>2024-06-30 09:00</td>\n",
       "      <td>μg/m3</td>\n",
       "    </tr>\n",
       "  </tbody>\n",
       "</table>\n",
       "<p>77 rows × 5 columns</p>\n",
       "</div>"
      ],
      "text/plain": [
       "   site county  pm25  datacreationdate itemunit\n",
       "0    大城    彰化縣   0.0  2024-06-30 09:00    μg/m3\n",
       "1   富貴角    新北市   7.0  2024-06-30 09:00    μg/m3\n",
       "2    麥寮    雲林縣   0.0  2024-06-30 09:00    μg/m3\n",
       "3    關山    臺東縣   6.0  2024-06-30 09:00    μg/m3\n",
       "4    馬公    澎湖縣  11.0  2024-06-30 09:00    μg/m3\n",
       "..  ...    ...   ...               ...      ...\n",
       "73   土城    新北市  11.0  2024-06-30 09:00    μg/m3\n",
       "74   新店    新北市  15.0  2024-06-30 09:00    μg/m3\n",
       "75   萬里    新北市   3.0  2024-06-30 09:00    μg/m3\n",
       "76   汐止    新北市   9.0  2024-06-30 09:00    μg/m3\n",
       "77   基隆    基隆市   6.0  2024-06-30 09:00    μg/m3\n",
       "\n",
       "[77 rows x 5 columns]"
      ]
     },
     "execution_count": 5,
     "metadata": {},
     "output_type": "execute_result"
    }
   ],
   "source": [
    "df=df.dropna()\n",
    "df"
   ]
  },
  {
   "cell_type": "markdown",
   "id": "d6a5afab",
   "metadata": {},
   "source": [
    "### 取col與values"
   ]
  },
  {
   "cell_type": "code",
   "execution_count": 6,
   "id": "127250fc",
   "metadata": {},
   "outputs": [
    {
     "data": {
      "text/plain": [
       "['site', 'county', 'pm25', 'datacreationdate', 'itemunit']"
      ]
     },
     "execution_count": 6,
     "metadata": {},
     "output_type": "execute_result"
    }
   ],
   "source": [
    "col=df.columns.tolist()\n",
    "col"
   ]
  },
  {
   "cell_type": "code",
   "execution_count": 7,
   "id": "1953ae9f",
   "metadata": {},
   "outputs": [
    {
     "data": {
      "text/plain": [
       "[['大城', '彰化縣', 0.0, '2024-06-30 09:00', 'μg/m3'],\n",
       " ['富貴角', '新北市', 7.0, '2024-06-30 09:00', 'μg/m3'],\n",
       " ['麥寮', '雲林縣', 0.0, '2024-06-30 09:00', 'μg/m3'],\n",
       " ['關山', '臺東縣', 6.0, '2024-06-30 09:00', 'μg/m3'],\n",
       " ['馬公', '澎湖縣', 11.0, '2024-06-30 09:00', 'μg/m3'],\n",
       " ['金門', '金門縣', 4.0, '2024-06-30 09:00', 'μg/m3'],\n",
       " ['埔里', '南投縣', 12.0, '2024-06-30 09:00', 'μg/m3'],\n",
       " ['復興', '高雄市', 5.0, '2024-06-30 09:00', 'μg/m3'],\n",
       " ['永和', '新北市', 10.0, '2024-06-30 09:00', 'μg/m3'],\n",
       " ['竹山', '南投縣', 5.0, '2024-06-30 09:00', 'μg/m3'],\n",
       " ['中壢', '桃園市', 5.0, '2024-06-30 09:00', 'μg/m3'],\n",
       " ['三重', '新北市', 8.0, '2024-06-30 09:00', 'μg/m3'],\n",
       " ['冬山', '宜蘭縣', 8.0, '2024-06-30 09:00', 'μg/m3'],\n",
       " ['宜蘭', '宜蘭縣', 5.0, '2024-06-30 09:00', 'μg/m3'],\n",
       " ['陽明', '臺北市', 2.0, '2024-06-30 09:00', 'μg/m3'],\n",
       " ['花蓮', '花蓮縣', 5.0, '2024-06-30 09:00', 'μg/m3'],\n",
       " ['臺東', '臺東縣', 0.0, '2024-06-30 09:00', 'μg/m3'],\n",
       " ['恆春', '屏東縣', 5.0, '2024-06-30 09:00', 'μg/m3'],\n",
       " ['潮州', '屏東縣', 2.0, '2024-06-30 09:00', 'μg/m3'],\n",
       " ['屏東', '屏東縣', 5.0, '2024-06-30 09:00', 'μg/m3'],\n",
       " ['小港', '高雄市', 6.0, '2024-06-30 09:00', 'μg/m3'],\n",
       " ['前鎮', '高雄市', 4.0, '2024-06-30 09:00', 'μg/m3'],\n",
       " ['前金', '高雄市', 7.0, '2024-06-30 09:00', 'μg/m3'],\n",
       " ['左營', '高雄市', 7.0, '2024-06-30 09:00', 'μg/m3'],\n",
       " ['楠梓', '高雄市', 5.0, '2024-06-30 09:00', 'μg/m3'],\n",
       " ['林園', '高雄市', 0.0, '2024-06-30 09:00', 'μg/m3'],\n",
       " ['大寮', '高雄市', 4.0, '2024-06-30 09:00', 'μg/m3'],\n",
       " ['鳳山', '高雄市', 5.0, '2024-06-30 09:00', 'μg/m3'],\n",
       " ['仁武', '高雄市', 6.0, '2024-06-30 09:00', 'μg/m3'],\n",
       " ['橋頭', '高雄市', 7.0, '2024-06-30 09:00', 'μg/m3'],\n",
       " ['美濃', '高雄市', 0.0, '2024-06-30 09:00', 'μg/m3'],\n",
       " ['臺南', '臺南市', 9.0, '2024-06-30 09:00', 'μg/m3'],\n",
       " ['安南', '臺南市', 8.0, '2024-06-30 09:00', 'μg/m3'],\n",
       " ['善化', '臺南市', 5.0, '2024-06-30 09:00', 'μg/m3'],\n",
       " ['新營', '臺南市', 2.0, '2024-06-30 09:00', 'μg/m3'],\n",
       " ['嘉義', '嘉義市', 5.0, '2024-06-30 09:00', 'μg/m3'],\n",
       " ['臺西', '雲林縣', 2.0, '2024-06-30 09:00', 'μg/m3'],\n",
       " ['朴子', '嘉義縣', 5.0, '2024-06-30 09:00', 'μg/m3'],\n",
       " ['新港', '嘉義縣', 7.0, '2024-06-30 09:00', 'μg/m3'],\n",
       " ['崙背', '雲林縣', 9.0, '2024-06-30 09:00', 'μg/m3'],\n",
       " ['斗六', '雲林縣', 5.0, '2024-06-30 09:00', 'μg/m3'],\n",
       " ['南投', '南投縣', 5.0, '2024-06-30 09:00', 'μg/m3'],\n",
       " ['二林', '彰化縣', 8.0, '2024-06-30 09:00', 'μg/m3'],\n",
       " ['線西', '彰化縣', 5.0, '2024-06-30 09:00', 'μg/m3'],\n",
       " ['彰化', '彰化縣', 3.0, '2024-06-30 09:00', 'μg/m3'],\n",
       " ['西屯', '臺中市', 8.0, '2024-06-30 09:00', 'μg/m3'],\n",
       " ['忠明', '臺中市', 4.0, '2024-06-30 09:00', 'μg/m3'],\n",
       " ['大里', '臺中市', 4.0, '2024-06-30 09:00', 'μg/m3'],\n",
       " ['沙鹿', '臺中市', 7.0, '2024-06-30 09:00', 'μg/m3'],\n",
       " ['豐原', '臺中市', 2.0, '2024-06-30 09:00', 'μg/m3'],\n",
       " ['三義', '苗栗縣', 3.0, '2024-06-30 09:00', 'μg/m3'],\n",
       " ['苗栗', '苗栗縣', 3.0, '2024-06-30 09:00', 'μg/m3'],\n",
       " ['頭份', '苗栗縣', 6.0, '2024-06-30 09:00', 'μg/m3'],\n",
       " ['新竹', '新竹市', 3.0, '2024-06-30 09:00', 'μg/m3'],\n",
       " ['竹東', '新竹縣', 7.0, '2024-06-30 09:00', 'μg/m3'],\n",
       " ['湖口', '新竹縣', 6.0, '2024-06-30 09:00', 'μg/m3'],\n",
       " ['龍潭', '桃園市', 2.0, '2024-06-30 09:00', 'μg/m3'],\n",
       " ['平鎮', '桃園市', 0.0, '2024-06-30 09:00', 'μg/m3'],\n",
       " ['觀音', '桃園市', 5.0, '2024-06-30 09:00', 'μg/m3'],\n",
       " ['大園', '桃園市', 2.0, '2024-06-30 09:00', 'μg/m3'],\n",
       " ['桃園', '桃園市', 2.0, '2024-06-30 09:00', 'μg/m3'],\n",
       " ['大同', '臺北市', 14.0, '2024-06-30 09:00', 'μg/m3'],\n",
       " ['松山', '臺北市', 9.0, '2024-06-30 09:00', 'μg/m3'],\n",
       " ['古亭', '臺北市', 11.0, '2024-06-30 09:00', 'μg/m3'],\n",
       " ['萬華', '臺北市', 7.0, '2024-06-30 09:00', 'μg/m3'],\n",
       " ['中山', '臺北市', 9.0, '2024-06-30 09:00', 'μg/m3'],\n",
       " ['士林', '臺北市', 9.0, '2024-06-30 09:00', 'μg/m3'],\n",
       " ['淡水', '新北市', 3.0, '2024-06-30 09:00', 'μg/m3'],\n",
       " ['林口', '新北市', 3.0, '2024-06-30 09:00', 'μg/m3'],\n",
       " ['菜寮', '新北市', 9.0, '2024-06-30 09:00', 'μg/m3'],\n",
       " ['新莊', '新北市', 8.0, '2024-06-30 09:00', 'μg/m3'],\n",
       " ['板橋', '新北市', 5.0, '2024-06-30 09:00', 'μg/m3'],\n",
       " ['土城', '新北市', 11.0, '2024-06-30 09:00', 'μg/m3'],\n",
       " ['新店', '新北市', 15.0, '2024-06-30 09:00', 'μg/m3'],\n",
       " ['萬里', '新北市', 3.0, '2024-06-30 09:00', 'μg/m3'],\n",
       " ['汐止', '新北市', 9.0, '2024-06-30 09:00', 'μg/m3'],\n",
       " ['基隆', '基隆市', 6.0, '2024-06-30 09:00', 'μg/m3']]"
      ]
     },
     "execution_count": 7,
     "metadata": {},
     "output_type": "execute_result"
    }
   ],
   "source": [
    "values=df.values.tolist()\n",
    "values"
   ]
  },
  {
   "cell_type": "markdown",
   "id": "d536d4a0",
   "metadata": {},
   "source": [
    "### 取得六都pn2.5資料平均值"
   ]
  },
  {
   "cell_type": "code",
   "execution_count": 8,
   "id": "9a699758",
   "metadata": {},
   "outputs": [
    {
     "data": {
      "text/plain": [
       "0     彰化縣\n",
       "1     新北市\n",
       "2     雲林縣\n",
       "3     臺東縣\n",
       "4     澎湖縣\n",
       "     ... \n",
       "73    新北市\n",
       "74    新北市\n",
       "75    新北市\n",
       "76    新北市\n",
       "77    基隆市\n",
       "Name: county, Length: 77, dtype: object"
      ]
     },
     "execution_count": 8,
     "metadata": {},
     "output_type": "execute_result"
    }
   ],
   "source": [
    "df[\"county\"]"
   ]
  },
  {
   "cell_type": "code",
   "execution_count": 9,
   "id": "9022bf03",
   "metadata": {},
   "outputs": [],
   "source": [
    "six_countys=[\"臺北市\",\"新北市\",\"桃園市\",\"臺中市\",\"臺南市\",\"高雄市\"]"
   ]
  },
  {
   "cell_type": "code",
   "execution_count": 10,
   "id": "672a4986",
   "metadata": {},
   "outputs": [
    {
     "data": {
      "text/plain": [
       "8.714285714285714"
      ]
     },
     "execution_count": 10,
     "metadata": {},
     "output_type": "execute_result"
    }
   ],
   "source": [
    "df.groupby(\"county\").get_group(\"臺北市\")[\"pm25\"].mean()"
   ]
  },
  {
   "cell_type": "code",
   "execution_count": 11,
   "id": "1e9db280",
   "metadata": {},
   "outputs": [
    {
     "name": "stdout",
     "output_type": "stream",
     "text": [
      "臺北市 8.714285714285714\n",
      "新北市 7.583333333333333\n",
      "桃園市 2.6666666666666665\n",
      "臺中市 5.0\n",
      "臺南市 6.0\n",
      "高雄市 4.666666666666667\n"
     ]
    }
   ],
   "source": [
    "for county in six_countys:\n",
    "    pm25=df.groupby(\"county\").get_group(county)[\"pm25\"].mean()\n",
    "    print(county,pm25)\n",
    "    "
   ]
  },
  {
   "cell_type": "code",
   "execution_count": 12,
   "id": "baa994ba",
   "metadata": {},
   "outputs": [
    {
     "data": {
      "text/plain": [
       "array(['彰化縣', '新北市', '雲林縣', '臺東縣', '澎湖縣', '金門縣', '南投縣', '高雄市', '桃園市',\n",
       "       '宜蘭縣', '臺北市', '花蓮縣', '屏東縣', '臺南市', '嘉義市', '嘉義縣', '臺中市', '苗栗縣',\n",
       "       '新竹市', '新竹縣', '基隆市'], dtype=object)"
      ]
     },
     "execution_count": 12,
     "metadata": {},
     "output_type": "execute_result"
    }
   ],
   "source": [
    "df[\"county\"].unique()"
   ]
  },
  {
   "cell_type": "code",
   "execution_count": null,
   "id": "e6c320a9",
   "metadata": {},
   "outputs": [],
   "source": [
    "\n",
    "    "
   ]
  },
  {
   "cell_type": "code",
   "execution_count": null,
   "id": "4a835103",
   "metadata": {},
   "outputs": [],
   "source": []
  }
 ],
 "metadata": {
  "kernelspec": {
   "display_name": "Python 3 (ipykernel)",
   "language": "python",
   "name": "python3"
  },
  "language_info": {
   "codemirror_mode": {
    "name": "ipython",
    "version": 3
   },
   "file_extension": ".py",
   "mimetype": "text/x-python",
   "name": "python",
   "nbconvert_exporter": "python",
   "pygments_lexer": "ipython3",
   "version": "3.10.9"
  }
 },
 "nbformat": 4,
 "nbformat_minor": 5
}
